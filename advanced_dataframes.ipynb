{
 "cells": [
  {
   "cell_type": "markdown",
   "id": "0bd084bf",
   "metadata": {},
   "source": [
    "Run python -m pip install mysqlclient pymysql from your terminal to install the mysql client (any folder is fine)\n",
    "cd into your exercises folder for this module and run echo env.py >> .gitignore\n",
    "Create a function named get_db_url. It should accept a username, hostname, password, and database name and return a url connection string formatted like in the example at the start of this lesson.\n",
    "Use your function to obtain a connection to the employees database.\n",
    "Once you have successfully run a query:\n",
    "Intentionally make a typo in the database url. What kind of error message do you see?\n",
    "Intentionally make an error in your SQL query. What does the error message look like?\n",
    "Read the employees and titles tables into two separate DataFrames.\n",
    "How many rows and columns do you have in each DataFrame? Is that what you expected?\n",
    "Display the summary statistics for each DataFrame.\n",
    "How many unique titles are in the titles DataFrame?\n",
    "What is the oldest date in the to_date column?\n",
    "What is the most recent date in the to_date column?"
   ]
  },
  {
   "cell_type": "code",
   "execution_count": 36,
   "id": "919f52a1",
   "metadata": {},
   "outputs": [],
   "source": [
    "import pandas as pd\n",
    "import numpy as np"
   ]
  },
  {
   "cell_type": "code",
   "execution_count": 17,
   "id": "666179bb",
   "metadata": {
    "scrolled": true
   },
   "outputs": [],
   "source": [
    "from env import host, user, password, get_db_url\n",
    "\n",
    "url = get_db_url('employees')"
   ]
  },
  {
   "cell_type": "code",
   "execution_count": 12,
   "id": "5d48e4cf",
   "metadata": {
    "scrolled": true
   },
   "outputs": [
    {
     "data": {
      "text/html": [
       "<div>\n",
       "<style scoped>\n",
       "    .dataframe tbody tr th:only-of-type {\n",
       "        vertical-align: middle;\n",
       "    }\n",
       "\n",
       "    .dataframe tbody tr th {\n",
       "        vertical-align: top;\n",
       "    }\n",
       "\n",
       "    .dataframe thead th {\n",
       "        text-align: right;\n",
       "    }\n",
       "</style>\n",
       "<table border=\"1\" class=\"dataframe\">\n",
       "  <thead>\n",
       "    <tr style=\"text-align: right;\">\n",
       "      <th></th>\n",
       "      <th>emp_no</th>\n",
       "      <th>birth_date</th>\n",
       "      <th>first_name</th>\n",
       "      <th>last_name</th>\n",
       "      <th>gender</th>\n",
       "      <th>hire_date</th>\n",
       "    </tr>\n",
       "  </thead>\n",
       "  <tbody>\n",
       "    <tr>\n",
       "      <th>0</th>\n",
       "      <td>10051</td>\n",
       "      <td>1953-07-28</td>\n",
       "      <td>Hidefumi</td>\n",
       "      <td>Caine</td>\n",
       "      <td>M</td>\n",
       "      <td>1992-10-15</td>\n",
       "    </tr>\n",
       "    <tr>\n",
       "      <th>1</th>\n",
       "      <td>10052</td>\n",
       "      <td>1961-02-26</td>\n",
       "      <td>Heping</td>\n",
       "      <td>Nitsch</td>\n",
       "      <td>M</td>\n",
       "      <td>1988-05-21</td>\n",
       "    </tr>\n",
       "    <tr>\n",
       "      <th>2</th>\n",
       "      <td>10053</td>\n",
       "      <td>1954-09-13</td>\n",
       "      <td>Sanjiv</td>\n",
       "      <td>Zschoche</td>\n",
       "      <td>F</td>\n",
       "      <td>1986-02-04</td>\n",
       "    </tr>\n",
       "    <tr>\n",
       "      <th>3</th>\n",
       "      <td>10054</td>\n",
       "      <td>1957-04-04</td>\n",
       "      <td>Mayumi</td>\n",
       "      <td>Schueller</td>\n",
       "      <td>M</td>\n",
       "      <td>1995-03-13</td>\n",
       "    </tr>\n",
       "    <tr>\n",
       "      <th>4</th>\n",
       "      <td>10055</td>\n",
       "      <td>1956-06-06</td>\n",
       "      <td>Georgy</td>\n",
       "      <td>Dredge</td>\n",
       "      <td>M</td>\n",
       "      <td>1992-04-27</td>\n",
       "    </tr>\n",
       "  </tbody>\n",
       "</table>\n",
       "</div>"
      ],
      "text/plain": [
       "   emp_no  birth_date first_name  last_name gender   hire_date\n",
       "0   10051  1953-07-28   Hidefumi      Caine      M  1992-10-15\n",
       "1   10052  1961-02-26     Heping     Nitsch      M  1988-05-21\n",
       "2   10053  1954-09-13     Sanjiv   Zschoche      F  1986-02-04\n",
       "3   10054  1957-04-04     Mayumi  Schueller      M  1995-03-13\n",
       "4   10055  1956-06-06     Georgy     Dredge      M  1992-04-27"
      ]
     },
     "execution_count": 12,
     "metadata": {},
     "output_type": "execute_result"
    }
   ],
   "source": [
    "pd.read_sql('SELECT * FROM employees LIMIT 5 OFFSET 50', url)"
   ]
  },
  {
   "cell_type": "code",
   "execution_count": null,
   "id": "d3c30485",
   "metadata": {},
   "outputs": [],
   "source": [
    "# error in the URL will produce an Operational Error\n",
    "url = f'mysql+pymysql://{user}:{password}@{host}/employes'\n",
    "    #(OperationalError: (pymysql.err.OperationalError) (1044, \"Access denied for user 'mirzakhani_1931'@'%' to database 'employes'\")"
   ]
  },
  {
   "cell_type": "code",
   "execution_count": null,
   "id": "287cdd0d",
   "metadata": {},
   "outputs": [],
   "source": [
    "# error in the query will produce an ProgrammingError: \n",
    "pd.read_sql('SELECT * FROM emplyees LIMIT 5 OFFSET 50', url)\n",
    "    # ProgrammingError: (pymysql.err.ProgrammingError) (1146, \"Table 'employees.emplyees' doesn't exist\")\n",
    "#[SQL: SELECT * FROM emplyees LIMIT 5 OFFSET 50]"
   ]
  },
  {
   "cell_type": "code",
   "execution_count": 14,
   "id": "069b6290",
   "metadata": {},
   "outputs": [],
   "source": [
    "# Read the employees and titles tables into two separate DataFrames.\n",
    "pd.DataFrame = pd.read_sql('SELECT * FROM employees',url)"
   ]
  },
  {
   "cell_type": "code",
   "execution_count": 18,
   "id": "7c7184c9",
   "metadata": {},
   "outputs": [],
   "source": [
    "employees_read = pd.DataFrame"
   ]
  },
  {
   "cell_type": "code",
   "execution_count": 19,
   "id": "6a2649e0",
   "metadata": {},
   "outputs": [],
   "source": [
    "pd.DataFrame = pd.read_sql('SELECT * FROM titles',url)"
   ]
  },
  {
   "cell_type": "code",
   "execution_count": 38,
   "id": "f7f46171",
   "metadata": {},
   "outputs": [
    {
     "data": {
      "text/html": [
       "<div>\n",
       "<style scoped>\n",
       "    .dataframe tbody tr th:only-of-type {\n",
       "        vertical-align: middle;\n",
       "    }\n",
       "\n",
       "    .dataframe tbody tr th {\n",
       "        vertical-align: top;\n",
       "    }\n",
       "\n",
       "    .dataframe thead th {\n",
       "        text-align: right;\n",
       "    }\n",
       "</style>\n",
       "<table border=\"1\" class=\"dataframe\">\n",
       "  <thead>\n",
       "    <tr style=\"text-align: right;\">\n",
       "      <th></th>\n",
       "      <th>emp_no</th>\n",
       "      <th>title</th>\n",
       "      <th>from_date</th>\n",
       "      <th>to_date</th>\n",
       "    </tr>\n",
       "  </thead>\n",
       "  <tbody>\n",
       "    <tr>\n",
       "      <th>0</th>\n",
       "      <td>10001</td>\n",
       "      <td>Senior Engineer</td>\n",
       "      <td>1986-06-26</td>\n",
       "      <td>9999-01-01</td>\n",
       "    </tr>\n",
       "    <tr>\n",
       "      <th>1</th>\n",
       "      <td>10002</td>\n",
       "      <td>Staff</td>\n",
       "      <td>1996-08-03</td>\n",
       "      <td>9999-01-01</td>\n",
       "    </tr>\n",
       "    <tr>\n",
       "      <th>2</th>\n",
       "      <td>10003</td>\n",
       "      <td>Senior Engineer</td>\n",
       "      <td>1995-12-03</td>\n",
       "      <td>9999-01-01</td>\n",
       "    </tr>\n",
       "    <tr>\n",
       "      <th>3</th>\n",
       "      <td>10004</td>\n",
       "      <td>Engineer</td>\n",
       "      <td>1986-12-01</td>\n",
       "      <td>1995-12-01</td>\n",
       "    </tr>\n",
       "    <tr>\n",
       "      <th>4</th>\n",
       "      <td>10004</td>\n",
       "      <td>Senior Engineer</td>\n",
       "      <td>1995-12-01</td>\n",
       "      <td>9999-01-01</td>\n",
       "    </tr>\n",
       "    <tr>\n",
       "      <th>...</th>\n",
       "      <td>...</td>\n",
       "      <td>...</td>\n",
       "      <td>...</td>\n",
       "      <td>...</td>\n",
       "    </tr>\n",
       "    <tr>\n",
       "      <th>443303</th>\n",
       "      <td>499997</td>\n",
       "      <td>Engineer</td>\n",
       "      <td>1987-08-30</td>\n",
       "      <td>1992-08-29</td>\n",
       "    </tr>\n",
       "    <tr>\n",
       "      <th>443304</th>\n",
       "      <td>499997</td>\n",
       "      <td>Senior Engineer</td>\n",
       "      <td>1992-08-29</td>\n",
       "      <td>9999-01-01</td>\n",
       "    </tr>\n",
       "    <tr>\n",
       "      <th>443305</th>\n",
       "      <td>499998</td>\n",
       "      <td>Senior Staff</td>\n",
       "      <td>1998-12-27</td>\n",
       "      <td>9999-01-01</td>\n",
       "    </tr>\n",
       "    <tr>\n",
       "      <th>443306</th>\n",
       "      <td>499998</td>\n",
       "      <td>Staff</td>\n",
       "      <td>1993-12-27</td>\n",
       "      <td>1998-12-27</td>\n",
       "    </tr>\n",
       "    <tr>\n",
       "      <th>443307</th>\n",
       "      <td>499999</td>\n",
       "      <td>Engineer</td>\n",
       "      <td>1997-11-30</td>\n",
       "      <td>9999-01-01</td>\n",
       "    </tr>\n",
       "  </tbody>\n",
       "</table>\n",
       "<p>443308 rows × 4 columns</p>\n",
       "</div>"
      ],
      "text/plain": [
       "        emp_no            title   from_date     to_date\n",
       "0        10001  Senior Engineer  1986-06-26  9999-01-01\n",
       "1        10002            Staff  1996-08-03  9999-01-01\n",
       "2        10003  Senior Engineer  1995-12-03  9999-01-01\n",
       "3        10004         Engineer  1986-12-01  1995-12-01\n",
       "4        10004  Senior Engineer  1995-12-01  9999-01-01\n",
       "...        ...              ...         ...         ...\n",
       "443303  499997         Engineer  1987-08-30  1992-08-29\n",
       "443304  499997  Senior Engineer  1992-08-29  9999-01-01\n",
       "443305  499998     Senior Staff  1998-12-27  9999-01-01\n",
       "443306  499998            Staff  1993-12-27  1998-12-27\n",
       "443307  499999         Engineer  1997-11-30  9999-01-01\n",
       "\n",
       "[443308 rows x 4 columns]"
      ]
     },
     "execution_count": 38,
     "metadata": {},
     "output_type": "execute_result"
    }
   ],
   "source": [
    "titles_read = pd.DataFrame\n",
    "titles_read"
   ]
  },
  {
   "cell_type": "code",
   "execution_count": 27,
   "id": "a313a7d3",
   "metadata": {},
   "outputs": [
    {
     "data": {
      "text/plain": [
       "(300024, 6)"
      ]
     },
     "execution_count": 27,
     "metadata": {},
     "output_type": "execute_result"
    }
   ],
   "source": [
    "# How many rows and columns do you have in each DataFrame? Is that what you expected?\n",
    "    # employees has 300024 rows and 6 columns\n",
    "    # titles has 443308 rows and 4 columns\n",
    "employees_read.shape\n"
   ]
  },
  {
   "cell_type": "code",
   "execution_count": 28,
   "id": "28766ef8",
   "metadata": {},
   "outputs": [
    {
     "data": {
      "text/plain": [
       "(443308, 4)"
      ]
     },
     "execution_count": 28,
     "metadata": {},
     "output_type": "execute_result"
    }
   ],
   "source": [
    "titles_read.shape"
   ]
  },
  {
   "cell_type": "code",
   "execution_count": 25,
   "id": "bc2e7024",
   "metadata": {},
   "outputs": [
    {
     "data": {
      "text/html": [
       "<div>\n",
       "<style scoped>\n",
       "    .dataframe tbody tr th:only-of-type {\n",
       "        vertical-align: middle;\n",
       "    }\n",
       "\n",
       "    .dataframe tbody tr th {\n",
       "        vertical-align: top;\n",
       "    }\n",
       "\n",
       "    .dataframe thead th {\n",
       "        text-align: right;\n",
       "    }\n",
       "</style>\n",
       "<table border=\"1\" class=\"dataframe\">\n",
       "  <thead>\n",
       "    <tr style=\"text-align: right;\">\n",
       "      <th></th>\n",
       "      <th>emp_no</th>\n",
       "    </tr>\n",
       "  </thead>\n",
       "  <tbody>\n",
       "    <tr>\n",
       "      <th>count</th>\n",
       "      <td>300024.000000</td>\n",
       "    </tr>\n",
       "    <tr>\n",
       "      <th>mean</th>\n",
       "      <td>253321.763392</td>\n",
       "    </tr>\n",
       "    <tr>\n",
       "      <th>std</th>\n",
       "      <td>161828.235540</td>\n",
       "    </tr>\n",
       "    <tr>\n",
       "      <th>min</th>\n",
       "      <td>10001.000000</td>\n",
       "    </tr>\n",
       "    <tr>\n",
       "      <th>25%</th>\n",
       "      <td>85006.750000</td>\n",
       "    </tr>\n",
       "    <tr>\n",
       "      <th>50%</th>\n",
       "      <td>249987.500000</td>\n",
       "    </tr>\n",
       "    <tr>\n",
       "      <th>75%</th>\n",
       "      <td>424993.250000</td>\n",
       "    </tr>\n",
       "    <tr>\n",
       "      <th>max</th>\n",
       "      <td>499999.000000</td>\n",
       "    </tr>\n",
       "  </tbody>\n",
       "</table>\n",
       "</div>"
      ],
      "text/plain": [
       "              emp_no\n",
       "count  300024.000000\n",
       "mean   253321.763392\n",
       "std    161828.235540\n",
       "min     10001.000000\n",
       "25%     85006.750000\n",
       "50%    249987.500000\n",
       "75%    424993.250000\n",
       "max    499999.000000"
      ]
     },
     "execution_count": 25,
     "metadata": {},
     "output_type": "execute_result"
    }
   ],
   "source": [
    "# Display the summary statistics for each DataFrame.\n",
    "employees_read.describe()"
   ]
  },
  {
   "cell_type": "code",
   "execution_count": 26,
   "id": "065a1d04",
   "metadata": {
    "scrolled": true
   },
   "outputs": [
    {
     "data": {
      "text/html": [
       "<div>\n",
       "<style scoped>\n",
       "    .dataframe tbody tr th:only-of-type {\n",
       "        vertical-align: middle;\n",
       "    }\n",
       "\n",
       "    .dataframe tbody tr th {\n",
       "        vertical-align: top;\n",
       "    }\n",
       "\n",
       "    .dataframe thead th {\n",
       "        text-align: right;\n",
       "    }\n",
       "</style>\n",
       "<table border=\"1\" class=\"dataframe\">\n",
       "  <thead>\n",
       "    <tr style=\"text-align: right;\">\n",
       "      <th></th>\n",
       "      <th>emp_no</th>\n",
       "    </tr>\n",
       "  </thead>\n",
       "  <tbody>\n",
       "    <tr>\n",
       "      <th>count</th>\n",
       "      <td>443308.000000</td>\n",
       "    </tr>\n",
       "    <tr>\n",
       "      <th>mean</th>\n",
       "      <td>253075.034430</td>\n",
       "    </tr>\n",
       "    <tr>\n",
       "      <th>std</th>\n",
       "      <td>161853.292613</td>\n",
       "    </tr>\n",
       "    <tr>\n",
       "      <th>min</th>\n",
       "      <td>10001.000000</td>\n",
       "    </tr>\n",
       "    <tr>\n",
       "      <th>25%</th>\n",
       "      <td>84855.750000</td>\n",
       "    </tr>\n",
       "    <tr>\n",
       "      <th>50%</th>\n",
       "      <td>249847.500000</td>\n",
       "    </tr>\n",
       "    <tr>\n",
       "      <th>75%</th>\n",
       "      <td>424891.250000</td>\n",
       "    </tr>\n",
       "    <tr>\n",
       "      <th>max</th>\n",
       "      <td>499999.000000</td>\n",
       "    </tr>\n",
       "  </tbody>\n",
       "</table>\n",
       "</div>"
      ],
      "text/plain": [
       "              emp_no\n",
       "count  443308.000000\n",
       "mean   253075.034430\n",
       "std    161853.292613\n",
       "min     10001.000000\n",
       "25%     84855.750000\n",
       "50%    249847.500000\n",
       "75%    424891.250000\n",
       "max    499999.000000"
      ]
     },
     "execution_count": 26,
     "metadata": {},
     "output_type": "execute_result"
    }
   ],
   "source": [
    "titles_read.describe()"
   ]
  },
  {
   "cell_type": "code",
   "execution_count": 43,
   "id": "914556e4",
   "metadata": {},
   "outputs": [
    {
     "data": {
      "text/plain": [
       "7"
      ]
     },
     "execution_count": 43,
     "metadata": {},
     "output_type": "execute_result"
    }
   ],
   "source": [
    "# How many unique titles are in the titles DataFrame?\n",
    "    # There are 7 unique titles\n",
    "titles_read.title.unique()\n",
    "len(titles_read.title.unique())"
   ]
  },
  {
   "cell_type": "code",
   "execution_count": 33,
   "id": "a5325281",
   "metadata": {},
   "outputs": [
    {
     "data": {
      "text/plain": [
       "Index(['emp_no', 'title', 'from_date', 'to_date'], dtype='object')"
      ]
     },
     "execution_count": 33,
     "metadata": {},
     "output_type": "execute_result"
    }
   ],
   "source": [
    "titles_read.columns"
   ]
  },
  {
   "cell_type": "code",
   "execution_count": 46,
   "id": "f22945ea",
   "metadata": {},
   "outputs": [
    {
     "data": {
      "text/plain": [
       "datetime.date(1985, 3, 1)"
      ]
     },
     "execution_count": 46,
     "metadata": {},
     "output_type": "execute_result"
    }
   ],
   "source": [
    "# What is the oldest date in the to_date column?\n",
    "    # date 1985 - 3 -1, (year, month, day)\n",
    "titles_read.to_date.min()"
   ]
  },
  {
   "cell_type": "code",
   "execution_count": 47,
   "id": "6f4001b6",
   "metadata": {},
   "outputs": [
    {
     "data": {
      "text/plain": [
       "datetime.date(9999, 1, 1)"
      ]
     },
     "execution_count": 47,
     "metadata": {},
     "output_type": "execute_result"
    }
   ],
   "source": [
    "# What is the most recent date in the to_date column?\n",
    "    # date 9999 - 1 - 1, (year, month,day)\n",
    "titles_read.to_date.max() "
   ]
  }
 ],
 "metadata": {
  "kernelspec": {
   "display_name": "Python 3 (ipykernel)",
   "language": "python",
   "name": "python3"
  },
  "language_info": {
   "codemirror_mode": {
    "name": "ipython",
    "version": 3
   },
   "file_extension": ".py",
   "mimetype": "text/x-python",
   "name": "python",
   "nbconvert_exporter": "python",
   "pygments_lexer": "ipython3",
   "version": "3.9.12"
  }
 },
 "nbformat": 4,
 "nbformat_minor": 5
}
